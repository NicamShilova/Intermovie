{
 "metadata": {
  "language_info": {
   "codemirror_mode": {
    "name": "ipython",
    "version": 3
   },
   "file_extension": ".py",
   "mimetype": "text/x-python",
   "name": "python",
   "nbconvert_exporter": "python",
   "pygments_lexer": "ipython3",
   "version": "3.7.6-final"
  },
  "orig_nbformat": 2,
  "kernelspec": {
   "name": "Python 3.7.6 64-bit ('base': conda)",
   "display_name": "Python 3.7.6 64-bit ('base': conda)",
   "metadata": {
    "interpreter": {
     "hash": "b57b0ba709768a7bbbc5b5f9f052a7cbe42e1ac711dd327dca942e98c95c92b1"
    }
   }
  }
 },
 "nbformat": 4,
 "nbformat_minor": 2,
 "cells": [
  {
   "cell_type": "code",
   "execution_count": 1,
   "metadata": {},
   "outputs": [],
   "source": [
    "#Importation de panda\n",
    "\n",
    "import pandas as pd"
   ]
  },
  {
   "cell_type": "code",
   "execution_count": 2,
   "metadata": {},
   "outputs": [],
   "source": [
    "#Chargement des fichier contenant les tables\n",
    "\n",
    "dfTitle = pd.read_csv(\"../data/title.basics.tsv\", sep='\\t', usecols=[\"tconst\", \"primaryTitle\", \"originalTitle\"], encoding='utf-8')\n",
    "dfName = pd.read_csv(\"../data/name.basics.tsv\", sep='\\t', usecols=[\"nconst\", \"primaryName\"], encoding='utf-8')\n",
    "dfPrincipals = pd.read_csv(\"../data/title.principals.tsv\", sep='\\t', usecols=[\"tconst\", \"nconst\", \"category\"], encoding='utf-8')\n",
    "dfRating = pd.read_csv(\"../data/title.ratings.tsv\", sep='\\t', usecols=[\"tconst\", \"averageRating\"], encoding='utf-8')\n"
   ]
  },
  {
   "cell_type": "code",
   "execution_count": 3,
   "metadata": {
    "tags": []
   },
   "outputs": [
    {
     "output_type": "execute_result",
     "data": {
      "text/plain": "         codeActor   codeMovie\n0        nm0443482   tt0000005\n1        nm0653042   tt0000005\n2        nm0179163   tt0000007\n3        nm0183947   tt0000007\n4        nm0653028   tt0000008\n...            ...         ...\n4316759  nm0066075  tt10737702\n4316760  nm0438478  tt10737702\n4316761  nm0790858  tt10737702\n4316762  nm0066075  tt10737706\n4316763  nm0438478  tt10737706\n\n[4316764 rows x 2 columns]",
      "text/html": "<div>\n<style scoped>\n    .dataframe tbody tr th:only-of-type {\n        vertical-align: middle;\n    }\n\n    .dataframe tbody tr th {\n        vertical-align: top;\n    }\n\n    .dataframe thead th {\n        text-align: right;\n    }\n</style>\n<table border=\"1\" class=\"dataframe\">\n  <thead>\n    <tr style=\"text-align: right;\">\n      <th></th>\n      <th>codeActor</th>\n      <th>codeMovie</th>\n    </tr>\n  </thead>\n  <tbody>\n    <tr>\n      <th>0</th>\n      <td>nm0443482</td>\n      <td>tt0000005</td>\n    </tr>\n    <tr>\n      <th>1</th>\n      <td>nm0653042</td>\n      <td>tt0000005</td>\n    </tr>\n    <tr>\n      <th>2</th>\n      <td>nm0179163</td>\n      <td>tt0000007</td>\n    </tr>\n    <tr>\n      <th>3</th>\n      <td>nm0183947</td>\n      <td>tt0000007</td>\n    </tr>\n    <tr>\n      <th>4</th>\n      <td>nm0653028</td>\n      <td>tt0000008</td>\n    </tr>\n    <tr>\n      <th>...</th>\n      <td>...</td>\n      <td>...</td>\n    </tr>\n    <tr>\n      <th>4316759</th>\n      <td>nm0066075</td>\n      <td>tt10737702</td>\n    </tr>\n    <tr>\n      <th>4316760</th>\n      <td>nm0438478</td>\n      <td>tt10737702</td>\n    </tr>\n    <tr>\n      <th>4316761</th>\n      <td>nm0790858</td>\n      <td>tt10737702</td>\n    </tr>\n    <tr>\n      <th>4316762</th>\n      <td>nm0066075</td>\n      <td>tt10737706</td>\n    </tr>\n    <tr>\n      <th>4316763</th>\n      <td>nm0438478</td>\n      <td>tt10737706</td>\n    </tr>\n  </tbody>\n</table>\n<p>4316764 rows × 2 columns</p>\n</div>"
     },
     "metadata": {},
     "execution_count": 3
    }
   ],
   "source": [
    "#Chargement de la liste des acteurs\n",
    "\n",
    "\"\"\"actorList = []\n",
    "finalActorList = []\n",
    "\n",
    "for i in range (1000):\n",
    "    for j in range (1000):\n",
    "        #print(dfName['nconst'].values[i])\n",
    "        #print(dfPrincipals['nconst'].values[j])\n",
    "        if (dfName['nconst'].values[i] == dfPrincipals['nconst'].values[j] and (dfPrincipals['category'].values[j] == 'actor' or dfPrincipals['category'].values[j] == 'actress')):\n",
    "            actorList.append([dfName['primaryName'].values[i], dfName['nconst'].values[0]])\n",
    "\n",
    "#Ecriture dans la table prévue pour afficher les résultats\n",
    "actorsMoviesDF = pd.DataFrame(actorList, columns=['Movie', 'Actor'])\n",
    "\n",
    "actorsMoviesDF.head(10)\"\"\"\n",
    "\n",
    "actorMovieList = []\n",
    "\n",
    "for i in range (len(dfName)):\n",
    "    if (dfPrincipals['category'].values[i] == 'actor' or dfPrincipals['category'].values[i] == 'actress'):\n",
    "        actorMovieList.append([dfPrincipals['nconst'].values[i], dfPrincipals['tconst'].values[i]])\n",
    "\n",
    "\"\"\"for i in range (100):\n",
    "    if (dfName['primaryName'].values[i] == 'Bardot'):\n",
    "        actorList.append([dfName['primaryName'].values[i], dfName['nconst'].values[0]])\"\"\"\n",
    "        #print(dfName['nconst'].values[0])\n",
    "\n",
    "#Ecriture dans la table prévue pour afficher les résultats\n",
    "actorsMovieDF = pd.DataFrame(actorMovieList, columns=['codeActor', 'codeMovie'])\n",
    "\n",
    "actorsMovieDF.head(len(actorsMovieDF))\n"
   ]
  },
  {
   "cell_type": "code",
   "execution_count": 4,
   "metadata": {
    "tags": []
   },
   "outputs": [
    {
     "output_type": "stream",
     "name": "stdout",
     "text": "nm0443482  tt0000005\n"
    }
   ],
   "source": [
    "for i in range (len(actorsMovieDF)):\n",
    "    if (actorsMovieDF['codeActor'].values[i] == 'nm0443482'):\n",
    "        print(actorsMovieDF['codeActor'].values[i] + '  ' + actorsMovieDF['codeMovie'].values[i])"
   ]
  },
  {
   "cell_type": "code",
   "execution_count": 5,
   "metadata": {
    "tags": []
   },
   "outputs": [
    {
     "output_type": "execute_result",
     "data": {
      "text/plain": "        codeMovie  Score\n0       tt0000001    5.6\n1       tt0000002    6.1\n2       tt0000003    6.5\n3       tt0000004    6.2\n4       tt0000005    6.1\n...           ...    ...\n993148  tt9916576    5.9\n993149  tt9916578    9.1\n993150  tt9916720    5.1\n993151  tt9916766    6.7\n993152  tt9916778    6.9\n\n[993153 rows x 2 columns]",
      "text/html": "<div>\n<style scoped>\n    .dataframe tbody tr th:only-of-type {\n        vertical-align: middle;\n    }\n\n    .dataframe tbody tr th {\n        vertical-align: top;\n    }\n\n    .dataframe thead th {\n        text-align: right;\n    }\n</style>\n<table border=\"1\" class=\"dataframe\">\n  <thead>\n    <tr style=\"text-align: right;\">\n      <th></th>\n      <th>codeMovie</th>\n      <th>Score</th>\n    </tr>\n  </thead>\n  <tbody>\n    <tr>\n      <th>0</th>\n      <td>tt0000001</td>\n      <td>5.6</td>\n    </tr>\n    <tr>\n      <th>1</th>\n      <td>tt0000002</td>\n      <td>6.1</td>\n    </tr>\n    <tr>\n      <th>2</th>\n      <td>tt0000003</td>\n      <td>6.5</td>\n    </tr>\n    <tr>\n      <th>3</th>\n      <td>tt0000004</td>\n      <td>6.2</td>\n    </tr>\n    <tr>\n      <th>4</th>\n      <td>tt0000005</td>\n      <td>6.1</td>\n    </tr>\n    <tr>\n      <th>...</th>\n      <td>...</td>\n      <td>...</td>\n    </tr>\n    <tr>\n      <th>993148</th>\n      <td>tt9916576</td>\n      <td>5.9</td>\n    </tr>\n    <tr>\n      <th>993149</th>\n      <td>tt9916578</td>\n      <td>9.1</td>\n    </tr>\n    <tr>\n      <th>993150</th>\n      <td>tt9916720</td>\n      <td>5.1</td>\n    </tr>\n    <tr>\n      <th>993151</th>\n      <td>tt9916766</td>\n      <td>6.7</td>\n    </tr>\n    <tr>\n      <th>993152</th>\n      <td>tt9916778</td>\n      <td>6.9</td>\n    </tr>\n  </tbody>\n</table>\n<p>993153 rows × 2 columns</p>\n</div>"
     },
     "metadata": {},
     "execution_count": 5
    }
   ],
   "source": [
    "scoreMovieList = []\n",
    "\n",
    "for i in range (len(dfRating)):\n",
    "    #for j in range (len(actorsMovieDF)):\n",
    "        #print(actorsMovieDF['codeMovie'].values[j] + \"  \" + dfRating['tconst'].values[i])\n",
    "        #if (actorsMovieDF['codeMovie'].values[j] == dfRating['tconst'].values[i]):\n",
    "            #print(actorsMovieDF['codeMovie'].values[j] + \"  \" + dfRating['tconst'].values[i])\n",
    "    scoreMovieList.append([dfRating['tconst'].values[i], dfRating['averageRating'].values[i]])\n",
    "\n",
    "#Ecriture dans la table prévue pour afficher les résultats\n",
    "scoreMovieDF = pd.DataFrame(scoreMovieList, columns=['codeMovie', 'Score'])\n",
    "\n",
    "scoreMovieDF.head(len(scoreMovieDF))"
   ]
  },
  {
   "cell_type": "code",
   "execution_count": 7,
   "metadata": {},
   "outputs": [
    {
     "output_type": "error",
     "ename": "KeyboardInterrupt",
     "evalue": "",
     "traceback": [
      "\u001b[1;31m---------------------------------------------------------------------------\u001b[0m",
      "\u001b[1;31mKeyboardInterrupt\u001b[0m                         Traceback (most recent call last)",
      "\u001b[1;32m<ipython-input-7-5e5d4085af70>\u001b[0m in \u001b[0;36m<module>\u001b[1;34m\u001b[0m\n\u001b[1;32m----> 1\u001b[1;33m \u001b[0mactors_group\u001b[0m \u001b[1;33m=\u001b[0m \u001b[0mdfName\u001b[0m\u001b[1;33m.\u001b[0m\u001b[0mgroupby\u001b[0m\u001b[1;33m(\u001b[0m\u001b[1;34m'nconst'\u001b[0m\u001b[1;33m)\u001b[0m\u001b[1;33m[\u001b[0m\u001b[1;34m'primaryName'\u001b[0m\u001b[1;33m]\u001b[0m\u001b[1;33m.\u001b[0m\u001b[0mapply\u001b[0m\u001b[1;33m(\u001b[0m\u001b[1;34m', '\u001b[0m\u001b[1;33m.\u001b[0m\u001b[0mjoin\u001b[0m\u001b[1;33m)\u001b[0m\u001b[1;33m\u001b[0m\u001b[1;33m\u001b[0m\u001b[0m\n\u001b[0m\u001b[0;32m      2\u001b[0m \u001b[0mprint\u001b[0m\u001b[1;33m(\u001b[0m\u001b[0mactors_group\u001b[0m\u001b[1;33m)\u001b[0m\u001b[1;33m\u001b[0m\u001b[1;33m\u001b[0m\u001b[0m\n",
      "\u001b[1;32m~\\anaconda3\\lib\\site-packages\\pandas\\core\\groupby\\generic.py\u001b[0m in \u001b[0;36mapply\u001b[1;34m(self, func, *args, **kwargs)\u001b[0m\n\u001b[0;32m    222\u001b[0m     )\n\u001b[0;32m    223\u001b[0m     \u001b[1;32mdef\u001b[0m \u001b[0mapply\u001b[0m\u001b[1;33m(\u001b[0m\u001b[0mself\u001b[0m\u001b[1;33m,\u001b[0m \u001b[0mfunc\u001b[0m\u001b[1;33m,\u001b[0m \u001b[1;33m*\u001b[0m\u001b[0margs\u001b[0m\u001b[1;33m,\u001b[0m \u001b[1;33m**\u001b[0m\u001b[0mkwargs\u001b[0m\u001b[1;33m)\u001b[0m\u001b[1;33m:\u001b[0m\u001b[1;33m\u001b[0m\u001b[1;33m\u001b[0m\u001b[0m\n\u001b[1;32m--> 224\u001b[1;33m         \u001b[1;32mreturn\u001b[0m \u001b[0msuper\u001b[0m\u001b[1;33m(\u001b[0m\u001b[1;33m)\u001b[0m\u001b[1;33m.\u001b[0m\u001b[0mapply\u001b[0m\u001b[1;33m(\u001b[0m\u001b[0mfunc\u001b[0m\u001b[1;33m,\u001b[0m \u001b[1;33m*\u001b[0m\u001b[0margs\u001b[0m\u001b[1;33m,\u001b[0m \u001b[1;33m**\u001b[0m\u001b[0mkwargs\u001b[0m\u001b[1;33m)\u001b[0m\u001b[1;33m\u001b[0m\u001b[1;33m\u001b[0m\u001b[0m\n\u001b[0m\u001b[0;32m    225\u001b[0m \u001b[1;33m\u001b[0m\u001b[0m\n\u001b[0;32m    226\u001b[0m     @Substitution(\n",
      "\u001b[1;32m~\\anaconda3\\lib\\site-packages\\pandas\\core\\groupby\\groupby.py\u001b[0m in \u001b[0;36mapply\u001b[1;34m(self, func, *args, **kwargs)\u001b[0m\n\u001b[0;32m    733\u001b[0m         \u001b[1;32mwith\u001b[0m \u001b[0moption_context\u001b[0m\u001b[1;33m(\u001b[0m\u001b[1;34m\"mode.chained_assignment\"\u001b[0m\u001b[1;33m,\u001b[0m \u001b[1;32mNone\u001b[0m\u001b[1;33m)\u001b[0m\u001b[1;33m:\u001b[0m\u001b[1;33m\u001b[0m\u001b[1;33m\u001b[0m\u001b[0m\n\u001b[0;32m    734\u001b[0m             \u001b[1;32mtry\u001b[0m\u001b[1;33m:\u001b[0m\u001b[1;33m\u001b[0m\u001b[1;33m\u001b[0m\u001b[0m\n\u001b[1;32m--> 735\u001b[1;33m                 \u001b[0mresult\u001b[0m \u001b[1;33m=\u001b[0m \u001b[0mself\u001b[0m\u001b[1;33m.\u001b[0m\u001b[0m_python_apply_general\u001b[0m\u001b[1;33m(\u001b[0m\u001b[0mf\u001b[0m\u001b[1;33m)\u001b[0m\u001b[1;33m\u001b[0m\u001b[1;33m\u001b[0m\u001b[0m\n\u001b[0m\u001b[0;32m    736\u001b[0m             \u001b[1;32mexcept\u001b[0m \u001b[0mTypeError\u001b[0m\u001b[1;33m:\u001b[0m\u001b[1;33m\u001b[0m\u001b[1;33m\u001b[0m\u001b[0m\n\u001b[0;32m    737\u001b[0m                 \u001b[1;31m# gh-20949\u001b[0m\u001b[1;33m\u001b[0m\u001b[1;33m\u001b[0m\u001b[1;33m\u001b[0m\u001b[0m\n",
      "\u001b[1;32m~\\anaconda3\\lib\\site-packages\\pandas\\core\\groupby\\groupby.py\u001b[0m in \u001b[0;36m_python_apply_general\u001b[1;34m(self, f)\u001b[0m\n\u001b[0;32m    749\u001b[0m \u001b[1;33m\u001b[0m\u001b[0m\n\u001b[0;32m    750\u001b[0m     \u001b[1;32mdef\u001b[0m \u001b[0m_python_apply_general\u001b[0m\u001b[1;33m(\u001b[0m\u001b[0mself\u001b[0m\u001b[1;33m,\u001b[0m \u001b[0mf\u001b[0m\u001b[1;33m)\u001b[0m\u001b[1;33m:\u001b[0m\u001b[1;33m\u001b[0m\u001b[1;33m\u001b[0m\u001b[0m\n\u001b[1;32m--> 751\u001b[1;33m         \u001b[0mkeys\u001b[0m\u001b[1;33m,\u001b[0m \u001b[0mvalues\u001b[0m\u001b[1;33m,\u001b[0m \u001b[0mmutated\u001b[0m \u001b[1;33m=\u001b[0m \u001b[0mself\u001b[0m\u001b[1;33m.\u001b[0m\u001b[0mgrouper\u001b[0m\u001b[1;33m.\u001b[0m\u001b[0mapply\u001b[0m\u001b[1;33m(\u001b[0m\u001b[0mf\u001b[0m\u001b[1;33m,\u001b[0m \u001b[0mself\u001b[0m\u001b[1;33m.\u001b[0m\u001b[0m_selected_obj\u001b[0m\u001b[1;33m,\u001b[0m \u001b[0mself\u001b[0m\u001b[1;33m.\u001b[0m\u001b[0maxis\u001b[0m\u001b[1;33m)\u001b[0m\u001b[1;33m\u001b[0m\u001b[1;33m\u001b[0m\u001b[0m\n\u001b[0m\u001b[0;32m    752\u001b[0m \u001b[1;33m\u001b[0m\u001b[0m\n\u001b[0;32m    753\u001b[0m         return self._wrap_applied_output(\n",
      "\u001b[1;32m~\\anaconda3\\lib\\site-packages\\pandas\\core\\groupby\\ops.py\u001b[0m in \u001b[0;36mapply\u001b[1;34m(self, f, data, axis)\u001b[0m\n\u001b[0;32m    207\u001b[0m             \u001b[1;32mif\u001b[0m \u001b[1;32mnot\u001b[0m \u001b[0m_is_indexed_like\u001b[0m\u001b[1;33m(\u001b[0m\u001b[0mres\u001b[0m\u001b[1;33m,\u001b[0m \u001b[0mgroup_axes\u001b[0m\u001b[1;33m)\u001b[0m\u001b[1;33m:\u001b[0m\u001b[1;33m\u001b[0m\u001b[1;33m\u001b[0m\u001b[0m\n\u001b[0;32m    208\u001b[0m                 \u001b[0mmutated\u001b[0m \u001b[1;33m=\u001b[0m \u001b[1;32mTrue\u001b[0m\u001b[1;33m\u001b[0m\u001b[1;33m\u001b[0m\u001b[0m\n\u001b[1;32m--> 209\u001b[1;33m             \u001b[0mresult_values\u001b[0m\u001b[1;33m.\u001b[0m\u001b[0mappend\u001b[0m\u001b[1;33m(\u001b[0m\u001b[0mres\u001b[0m\u001b[1;33m)\u001b[0m\u001b[1;33m\u001b[0m\u001b[1;33m\u001b[0m\u001b[0m\n\u001b[0m\u001b[0;32m    210\u001b[0m \u001b[1;33m\u001b[0m\u001b[0m\n\u001b[0;32m    211\u001b[0m         \u001b[1;32mreturn\u001b[0m \u001b[0mgroup_keys\u001b[0m\u001b[1;33m,\u001b[0m \u001b[0mresult_values\u001b[0m\u001b[1;33m,\u001b[0m \u001b[0mmutated\u001b[0m\u001b[1;33m\u001b[0m\u001b[1;33m\u001b[0m\u001b[0m\n",
      "\u001b[1;31mKeyboardInterrupt\u001b[0m: "
     ]
    }
   ],
   "source": [
    "actors_group = dfName.groupby('nconst')['primaryName'].apply(', '.join)\n",
    "print(actors_group)"
   ]
  },
  {
   "cell_type": "code",
   "execution_count": 12,
   "metadata": {
    "tags": []
   },
   "outputs": [
    {
     "output_type": "execute_result",
     "data": {
      "text/plain": "codeActor\nnm0000001    tt0025164, tt0026942, tt0027125, tt0027630, tt...\nnm0000002    tt0037382, tt0037610, tt0038355, tt0039302, tt...\nnm0000003    tt0044881, tt0046200, tt0047607, tt0048001, tt...\nnm0000004    tt0076816, tt0077621, tt0077975, tt0078723, tt...\nnm0000005    tt0079187, tt0133268, tt0140845, tt0163721, tt...\nName: codeMovie, dtype: object"
     },
     "metadata": {},
     "execution_count": 12
    }
   ],
   "source": [
    "\n",
    "\n",
    "resultat = pd.merge(actorsMovieDF,scoreMovieDF,on=['codeMovie'])\n",
    "test = resultat.groupby('codeActor')['codeMovie'].apply(', '.join)\n",
    "#test = resultat.groupby('codeActor')\n",
    "\n",
    "#for i in range (len(resultat)):\n",
    "    #if (resultat['codeActor'].values[i] == 'nm0000003'):\n",
    "        #print (str(resultat['codeActor'].values[i]) + \"    \" + str(resultat['codeMovie'].values[i]) + \"    \" + str(resultat['Score'].values[i]))\n",
    "\n",
    "test.head() "
   ]
  },
  {
   "cell_type": "code",
   "execution_count": null,
   "metadata": {},
   "outputs": [],
   "source": []
  }
 ]
}