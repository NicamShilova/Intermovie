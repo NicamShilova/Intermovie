{
 "metadata": {
  "language_info": {
   "codemirror_mode": {
    "name": "ipython",
    "version": 3
   },
   "file_extension": ".py",
   "mimetype": "text/x-python",
   "name": "python",
   "nbconvert_exporter": "python",
   "pygments_lexer": "ipython3",
   "version": "3.7.6-final"
  },
  "orig_nbformat": 2,
  "kernelspec": {
   "name": "Python 3.7.6 64-bit ('base': conda)",
   "display_name": "Python 3.7.6 64-bit ('base': conda)",
   "metadata": {
    "interpreter": {
     "hash": "b57b0ba709768a7bbbc5b5f9f052a7cbe42e1ac711dd327dca942e98c95c92b1"
    }
   }
  }
 },
 "nbformat": 4,
 "nbformat_minor": 2,
 "cells": [
  {
   "cell_type": "code",
   "execution_count": 1,
   "metadata": {},
   "outputs": [],
   "source": [
    "#Importation de panda\n",
    "\n",
    "import pandas as pd"
   ]
  },
  {
   "source": [
    "#Chargement des fichier contenant les tables\n",
    "\n",
    "dfTitle = pd.read_csv(\"../data/title.basics.tsv\", sep='\\t', usecols=[\"tconst\", \"primaryTitle\", \"originalTitle\"], encoding='utf-8')\n",
    "dfName = pd.read_csv(\"../data/name.basics.tsv\", sep='\\t', usecols=[\"nconst\", \"primaryName\"], encoding='utf-8')\n",
    "dfPrincipals = pd.read_csv(\"../data/title.principals.tsv\", sep='\\t', usecols=[\"tconst\", \"nconst\", \"category\"], encoding='utf-8')"
   ],
   "cell_type": "code",
   "metadata": {},
   "execution_count": 2,
   "outputs": []
  },
  {
   "cell_type": "code",
   "execution_count": 4,
   "metadata": {
    "tags": []
   },
   "outputs": [],
   "source": [
    "#Chargement de la liste des films\n",
    "\n",
    "movieList = []\n",
    "finalMovieList = []\n",
    "\n",
    "for i in range (len(dfPrincipals)):\n",
    "    movieList.append([dfTitle['originalTitle'].values[i], dfTitle['tconst'].values[i]])\n",
    "\n",
    "#Ecriture dans la table prévue pour afficher les résultats\n",
    "actorsMoviesDF = pd.DataFrame(movieList, columns=['Movie', 'Actor'])\n",
    "\n",
    "#Recherche des acteurs des films\n",
    "for i in range (len(actorsMoviesDF)):\n",
    "\n",
    "    #Tout d'abord, effacer la liste provisoire\n",
    "    actorsList = ''\n",
    "\n",
    "    #Récupération les films concernés\n",
    "    filterMovie = dfPrincipals[dfPrincipals['tconst'] == actorsMoviesDF['Actor'].values[i]]\n",
    "    \n",
    "    #Détection des acteurs et ajout dans la liste provisoire\n",
    "    for j in range (len(filterMovie)):\n",
    "        \n",
    "        if (filterMovie['category'].values[j] == 'actor' or filterMovie['category'].values[j] == 'actress'):\n",
    "            filterActor = dfName[dfName['nconst'] == filterMovie['nconst'].values[j]]\n",
    "            result = filterActor['primaryName'].values[0]\n",
    "            if (j == 0):\n",
    "                actorsList = result\n",
    "            else:\n",
    "                actorsList += ','+result\n",
    "\n",
    "    #Si des acteurs ont été trouvés, les ajouter dans le Dataframe\n",
    "    try:\n",
    "        if (actorsList != ''):\n",
    "            actorsMoviesDF.loc[i, 'Actor'] = actorsList\n",
    "            finalMovieList.append([actorsMoviesDF.loc[i, 'Movie'], actorsList])\n",
    "    except:\n",
    "        print('Impossible')\n",
    "        \n",
    "#Ecriture dans le fichier prévu pour contenir la table des résultats\n",
    "finalActorsMoviesDF = pd.DataFrame(finalMovieList, columns=['Movie', 'Actor'])\n",
    "finalActorsMoviesDF.to_csv('actorsMovies.csv')\n"
   ]
  },
  {
   "cell_type": "code",
   "execution_count": null,
   "metadata": {},
   "outputs": [],
   "source": []
  }
 ]
}